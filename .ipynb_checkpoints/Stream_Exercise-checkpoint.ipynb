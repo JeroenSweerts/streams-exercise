{
 "cells": [
  {
   "cell_type": "code",
   "execution_count": 1,
   "metadata": {},
   "outputs": [],
   "source": [
    "class Stream():\n",
    "    def __init__(self, stream):\n",
    "            self._stream = stream\n",
    "\n",
    "    def process(self):\n",
    "        \"\"\"\n",
    "        TODO: Implement the `process` method, as described above.\n",
    "\n",
    "        :return: int\n",
    "        \"\"\"\n",
    "\n",
    "        count = 0  # How many two-digit numbers the `process` method has added\n",
    "                   # together.\n",
    "        total = 0  # The running total of sums.\n",
    "\n",
    "        while count < 10 and total < 200:\n",
    "            digits = self._stream.read(2)\n",
    "            if len(digits) < 2:\n",
    "                break\n",
    "\n",
    "            count += 1\n",
    "\n",
    "            n = int(digits)\n",
    "            total += n\n",
    "\n",
    "        return count"
   ]
  },
  {
   "cell_type": "code",
   "execution_count": 2,
   "metadata": {},
   "outputs": [
    {
     "name": "stdout",
     "output_type": "stream",
     "text": [
      "Processed 123456 and got 3\n"
     ]
    }
   ],
   "source": [
    "\"\"\"\n",
    "USAGE: `python try.py 123456`\n",
    "\"\"\"\n",
    "import io\n",
    "value = '123456'\n",
    "\n",
    "my_stream_processor = Stream(io.StringIO(value))\n",
    "result = my_stream_processor.process()\n",
    "print(\"Processed {} and got {}\".format(value, result))"
   ]
  },
  {
   "cell_type": "code",
   "execution_count": 3,
   "metadata": {},
   "outputs": [
    {
     "name": "stdout",
     "output_type": "stream",
     "text": [
      "Testing \"234761640930110349378289194\", expected 5 got 5. SUCCESS\n",
      "Testing \"03050403020309060707070708\", expected 10 got 10. SUCCESS\n",
      "Testing \"3\", expected 0 got 0. SUCCESS\n",
      "Testing \"2347\", expected 2 got 2. SUCCESS\n",
      "Testing \"23478\", expected 2 got 2. SUCCESS\n",
      "\n",
      "\n",
      "Test failures: 0 \n"
     ]
    }
   ],
   "source": [
    "\"\"\"\n",
    "streams-exercise.tests.py\n",
    "This file is intentionally written without the benefit of the Python\n",
    "unittest library. This can be used to demonstrate in-class that unit testing\n",
    "is a simple concept which benefits from the use of a library, but does not\n",
    "require it.\n",
    "Run with `python tests.py`. The return code will be the number of test failures.\n",
    "\"\"\"\n",
    "\n",
    "import io\n",
    "\n",
    "\n",
    "\n",
    "\n",
    "failures = 0\n",
    "\n",
    "\n",
    "value = \"234761640930110349378289194\"\n",
    "expected = 5\n",
    "my_stream_processor = Stream(io.StringIO(value))\n",
    "result = my_stream_processor.process()\n",
    "\n",
    "success = result == expected\n",
    "failures += (not success)\n",
    "message = \"Testing \\\"{}\\\", expected {} got {}. \".format(value, expected, result)\n",
    "message += \"SUCCESS\" if success else \"FAILURE\"\n",
    "print(message)\n",
    "\n",
    "\n",
    "value = \"03050403020309060707070708\"\n",
    "expected = 10\n",
    "my_stream_processor = Stream(io.StringIO(value))\n",
    "result = my_stream_processor.process()\n",
    "\n",
    "success = result == expected\n",
    "failures += (not success)\n",
    "message = \"Testing \\\"{}\\\", expected {} got {}. \".format(value, expected, result)\n",
    "message += \"SUCCESS\" if success else \"FAILURE\"\n",
    "print(message)\n",
    "\n",
    "\n",
    "value = \"3\"\n",
    "expected = 0\n",
    "my_stream_processor = Stream(io.StringIO(value))\n",
    "result = my_stream_processor.process()\n",
    "\n",
    "success = result == expected\n",
    "failures += (not success)\n",
    "message = \"Testing \\\"{}\\\", expected {} got {}. \".format(value, expected, result)\n",
    "message += \"SUCCESS\" if success else \"FAILURE\"\n",
    "print(message)\n",
    "\n",
    "\n",
    "value = \"2347\"\n",
    "expected = 2\n",
    "my_stream_processor = Stream(io.StringIO(value))\n",
    "result = my_stream_processor.process()\n",
    "\n",
    "success = result == expected\n",
    "failures += (not success)\n",
    "message = \"Testing \\\"{}\\\", expected {} got {}. \".format(value, expected, result)\n",
    "message += \"SUCCESS\" if success else \"FAILURE\"\n",
    "print(message)\n",
    "\n",
    "\n",
    "value = \"23478\"\n",
    "expected = 2\n",
    "my_stream_processor = Stream(io.StringIO(value))\n",
    "result = my_stream_processor.process()\n",
    "\n",
    "success = result == expected\n",
    "failures += (not success)\n",
    "message = \"Testing \\\"{}\\\", expected {} got {}. \".format(value, expected, result)\n",
    "message += \"SUCCESS\" if success else \"FAILURE\"\n",
    "print(message)\n",
    "\n",
    "\n",
    "\n",
    "print(\"\\n\\nTest failures: {} \".format(failures))"
   ]
  }
 ],
 "metadata": {
  "kernelspec": {
   "display_name": "Python 3",
   "language": "python",
   "name": "python3"
  },
  "language_info": {
   "codemirror_mode": {
    "name": "ipython",
    "version": 3
   },
   "file_extension": ".py",
   "mimetype": "text/x-python",
   "name": "python",
   "nbconvert_exporter": "python",
   "pygments_lexer": "ipython3",
   "version": "3.6.5"
  }
 },
 "nbformat": 4,
 "nbformat_minor": 2
}
